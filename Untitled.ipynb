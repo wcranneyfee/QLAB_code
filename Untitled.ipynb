{
 "cells": [
  {
   "cell_type": "code",
   "execution_count": 6,
   "id": "7abe767a-61e1-4ae1-ab50-2363f6a9137b",
   "metadata": {},
   "outputs": [],
   "source": [
    "import numpy as np\n",
    "import Pulsed_NMR\n",
    "import pandas as pd"
   ]
  },
  {
   "cell_type": "code",
   "execution_count": 8,
   "id": "ac8767ea-e53f-44f8-873f-093f7c2aee07",
   "metadata": {},
   "outputs": [],
   "source": [
    "df = pd.read_csv('Data/Pulsed NMR Data/Mineral Oil/MineralOilT2.csv')"
   ]
  },
  {
   "cell_type": "code",
   "execution_count": 9,
   "id": "42af9ead-93bf-418b-a43e-bfc1062beb17",
   "metadata": {},
   "outputs": [
    {
     "data": {
      "text/html": [
       "<div>\n",
       "<style scoped>\n",
       "    .dataframe tbody tr th:only-of-type {\n",
       "        vertical-align: middle;\n",
       "    }\n",
       "\n",
       "    .dataframe tbody tr th {\n",
       "        vertical-align: top;\n",
       "    }\n",
       "\n",
       "    .dataframe thead th {\n",
       "        text-align: right;\n",
       "    }\n",
       "</style>\n",
       "<table border=\"1\" class=\"dataframe\">\n",
       "  <thead>\n",
       "    <tr style=\"text-align: right;\">\n",
       "      <th></th>\n",
       "      <th>Sample Number</th>\n",
       "      <th>Time (s)</th>\n",
       "      <th>1 (VOLT)</th>\n",
       "    </tr>\n",
       "  </thead>\n",
       "  <tbody>\n",
       "    <tr>\n",
       "      <th>0</th>\n",
       "      <td>1</td>\n",
       "      <td>-0.012012</td>\n",
       "      <td>-0.006859</td>\n",
       "    </tr>\n",
       "    <tr>\n",
       "      <th>1</th>\n",
       "      <td>2</td>\n",
       "      <td>-0.012011</td>\n",
       "      <td>-0.010779</td>\n",
       "    </tr>\n",
       "    <tr>\n",
       "      <th>2</th>\n",
       "      <td>3</td>\n",
       "      <td>-0.012010</td>\n",
       "      <td>-0.002940</td>\n",
       "    </tr>\n",
       "    <tr>\n",
       "      <th>3</th>\n",
       "      <td>4</td>\n",
       "      <td>-0.012010</td>\n",
       "      <td>-0.006859</td>\n",
       "    </tr>\n",
       "    <tr>\n",
       "      <th>4</th>\n",
       "      <td>5</td>\n",
       "      <td>-0.012009</td>\n",
       "      <td>-0.006859</td>\n",
       "    </tr>\n",
       "    <tr>\n",
       "      <th>...</th>\n",
       "      <td>...</td>\n",
       "      <td>...</td>\n",
       "      <td>...</td>\n",
       "    </tr>\n",
       "    <tr>\n",
       "      <th>154995</th>\n",
       "      <td>154996</td>\n",
       "      <td>0.111984</td>\n",
       "      <td>-0.002940</td>\n",
       "    </tr>\n",
       "    <tr>\n",
       "      <th>154996</th>\n",
       "      <td>154997</td>\n",
       "      <td>0.111985</td>\n",
       "      <td>0.000980</td>\n",
       "    </tr>\n",
       "    <tr>\n",
       "      <th>154997</th>\n",
       "      <td>154998</td>\n",
       "      <td>0.111986</td>\n",
       "      <td>0.000980</td>\n",
       "    </tr>\n",
       "    <tr>\n",
       "      <th>154998</th>\n",
       "      <td>154999</td>\n",
       "      <td>0.111986</td>\n",
       "      <td>-0.002940</td>\n",
       "    </tr>\n",
       "    <tr>\n",
       "      <th>154999</th>\n",
       "      <td>155000</td>\n",
       "      <td>0.111987</td>\n",
       "      <td>0.000980</td>\n",
       "    </tr>\n",
       "  </tbody>\n",
       "</table>\n",
       "<p>155000 rows × 3 columns</p>\n",
       "</div>"
      ],
      "text/plain": [
       "        Sample Number  Time (s)  1 (VOLT)\n",
       "0                   1 -0.012012 -0.006859\n",
       "1                   2 -0.012011 -0.010779\n",
       "2                   3 -0.012010 -0.002940\n",
       "3                   4 -0.012010 -0.006859\n",
       "4                   5 -0.012009 -0.006859\n",
       "...               ...       ...       ...\n",
       "154995         154996  0.111984 -0.002940\n",
       "154996         154997  0.111985  0.000980\n",
       "154997         154998  0.111986  0.000980\n",
       "154998         154999  0.111986 -0.002940\n",
       "154999         155000  0.111987  0.000980\n",
       "\n",
       "[155000 rows x 3 columns]"
      ]
     },
     "execution_count": 9,
     "metadata": {},
     "output_type": "execute_result"
    }
   ],
   "source": [
    "df"
   ]
  },
  {
   "cell_type": "code",
   "execution_count": 10,
   "id": "f5191339-eba1-4c64-8a06-9fc873e55cbc",
   "metadata": {},
   "outputs": [],
   "source": [
    "odd_indices = np.array(range(1, len(df), 2))"
   ]
  },
  {
   "cell_type": "code",
   "execution_count": 11,
   "id": "283177c9-3a62-4c9c-8901-b05897cb8b8e",
   "metadata": {},
   "outputs": [
    {
     "data": {
      "text/plain": [
       "array([     1,      3,      5, ..., 154995, 154997, 154999],\n",
       "      shape=(77500,))"
      ]
     },
     "execution_count": 11,
     "metadata": {},
     "output_type": "execute_result"
    }
   ],
   "source": [
    "odd_indices"
   ]
  },
  {
   "cell_type": "code",
   "execution_count": 13,
   "id": "3708716f-6633-478c-bce6-a81a0174df26",
   "metadata": {},
   "outputs": [],
   "source": [
    "df.drop(odd_indices, inplace=True)"
   ]
  },
  {
   "cell_type": "code",
   "execution_count": 14,
   "id": "dcd1aa16-a434-4572-b45c-e0d342d2f78c",
   "metadata": {},
   "outputs": [
    {
     "data": {
      "text/html": [
       "<div>\n",
       "<style scoped>\n",
       "    .dataframe tbody tr th:only-of-type {\n",
       "        vertical-align: middle;\n",
       "    }\n",
       "\n",
       "    .dataframe tbody tr th {\n",
       "        vertical-align: top;\n",
       "    }\n",
       "\n",
       "    .dataframe thead th {\n",
       "        text-align: right;\n",
       "    }\n",
       "</style>\n",
       "<table border=\"1\" class=\"dataframe\">\n",
       "  <thead>\n",
       "    <tr style=\"text-align: right;\">\n",
       "      <th></th>\n",
       "      <th>Sample Number</th>\n",
       "      <th>Time (s)</th>\n",
       "      <th>1 (VOLT)</th>\n",
       "    </tr>\n",
       "  </thead>\n",
       "  <tbody>\n",
       "    <tr>\n",
       "      <th>0</th>\n",
       "      <td>1</td>\n",
       "      <td>-0.012012</td>\n",
       "      <td>-0.006859</td>\n",
       "    </tr>\n",
       "    <tr>\n",
       "      <th>2</th>\n",
       "      <td>3</td>\n",
       "      <td>-0.012010</td>\n",
       "      <td>-0.002940</td>\n",
       "    </tr>\n",
       "    <tr>\n",
       "      <th>4</th>\n",
       "      <td>5</td>\n",
       "      <td>-0.012009</td>\n",
       "      <td>-0.006859</td>\n",
       "    </tr>\n",
       "    <tr>\n",
       "      <th>6</th>\n",
       "      <td>7</td>\n",
       "      <td>-0.012007</td>\n",
       "      <td>-0.006859</td>\n",
       "    </tr>\n",
       "    <tr>\n",
       "      <th>8</th>\n",
       "      <td>9</td>\n",
       "      <td>-0.012006</td>\n",
       "      <td>-0.006859</td>\n",
       "    </tr>\n",
       "    <tr>\n",
       "      <th>...</th>\n",
       "      <td>...</td>\n",
       "      <td>...</td>\n",
       "      <td>...</td>\n",
       "    </tr>\n",
       "    <tr>\n",
       "      <th>154990</th>\n",
       "      <td>154991</td>\n",
       "      <td>0.111980</td>\n",
       "      <td>-0.006859</td>\n",
       "    </tr>\n",
       "    <tr>\n",
       "      <th>154992</th>\n",
       "      <td>154993</td>\n",
       "      <td>0.111982</td>\n",
       "      <td>-0.002940</td>\n",
       "    </tr>\n",
       "    <tr>\n",
       "      <th>154994</th>\n",
       "      <td>154995</td>\n",
       "      <td>0.111983</td>\n",
       "      <td>0.000980</td>\n",
       "    </tr>\n",
       "    <tr>\n",
       "      <th>154996</th>\n",
       "      <td>154997</td>\n",
       "      <td>0.111985</td>\n",
       "      <td>0.000980</td>\n",
       "    </tr>\n",
       "    <tr>\n",
       "      <th>154998</th>\n",
       "      <td>154999</td>\n",
       "      <td>0.111986</td>\n",
       "      <td>-0.002940</td>\n",
       "    </tr>\n",
       "  </tbody>\n",
       "</table>\n",
       "<p>77500 rows × 3 columns</p>\n",
       "</div>"
      ],
      "text/plain": [
       "        Sample Number  Time (s)  1 (VOLT)\n",
       "0                   1 -0.012012 -0.006859\n",
       "2                   3 -0.012010 -0.002940\n",
       "4                   5 -0.012009 -0.006859\n",
       "6                   7 -0.012007 -0.006859\n",
       "8                   9 -0.012006 -0.006859\n",
       "...               ...       ...       ...\n",
       "154990         154991  0.111980 -0.006859\n",
       "154992         154993  0.111982 -0.002940\n",
       "154994         154995  0.111983  0.000980\n",
       "154996         154997  0.111985  0.000980\n",
       "154998         154999  0.111986 -0.002940\n",
       "\n",
       "[77500 rows x 3 columns]"
      ]
     },
     "execution_count": 14,
     "metadata": {},
     "output_type": "execute_result"
    }
   ],
   "source": [
    "df"
   ]
  },
  {
   "cell_type": "code",
   "execution_count": null,
   "id": "f60147ad-ecc7-42f4-ad89-69762c93dc06",
   "metadata": {},
   "outputs": [],
   "source": []
  }
 ],
 "metadata": {
  "kernelspec": {
   "display_name": "Python 3 (ipykernel)",
   "language": "python",
   "name": "python3"
  },
  "language_info": {
   "codemirror_mode": {
    "name": "ipython",
    "version": 3
   },
   "file_extension": ".py",
   "mimetype": "text/x-python",
   "name": "python",
   "nbconvert_exporter": "python",
   "pygments_lexer": "ipython3",
   "version": "3.12.6"
  }
 },
 "nbformat": 4,
 "nbformat_minor": 5
}
