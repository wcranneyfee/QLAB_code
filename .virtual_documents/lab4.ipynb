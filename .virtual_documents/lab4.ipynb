import numpy as np
import math
import matplotlib.pyplot as plt
import pandas as pd
from SDOM_analysis import SDOM_analysis
from linear_regression import linear_regression
import matplotlib.pyplot as plt


def rpm_to_w(rpm):
    f = (rpm*2*math.pi)/60;
    return f
    
cue_ball_mass = 0.178; # kg
dM = 0.001; # kg

ball_r = 2.85e-2; # meters
dRball = 0.001; # meters


Current = np.array([1.998, 1.799, 1.599, 1.399, 1.198, 0.999]); # A

dT = 0.1; # A

N = 200 # no units
mu_0 = 4e-7*math.pi # H/m
D = 21e-2 # [m], diameter of helmholtz coils

I_s = (2/5) * cue_ball_mass * (ball_r) ** 2

d_r_squared = (2 * dRball)/(ball_r) * ball_r**2

dI_s = (2/5) * math.sqrt((d_r_squared/ball_r**2)**2 + (dM/cue_ball_mass)**2) * I_s


print(f"moment of intertia = {I_s:.2e} +/- {dI_s:.2e} kg m^2")


df_osc = pd.read_csv("Data/lab4_osc(in).csv")


df_osc


B = (16*N*mu_0*Current)/(math.sqrt(125)*D) # T


B


T = np.array(df_osc['T_o(s)'])


T


mu_osc = (4 * (math.pi**2) * I_s)/(T**2 *B)


mu_osc


SDOM_analysis(len(mu_osc), mu_osc, mu_osc/10)


df_prec = pd.read_csv("Data/lab4_prec(in).csv")


df_prec


df_up = df_prec.loc[df_prec['B-Direction'] == 'Up']
df_down = df_prec.loc[df_prec['B-Direction'] == 'Down']


df_up





w_s = np.array(df_prec['w_s(RPM)'])
w_s = rpm_to_w(w_s)


w_s


w_p = np.array(df_prec['T_p(s)'])
w_p = (2*math.pi)/w_p


w_p


B_prec = np.concatenate((B, B))
B_prec


mu_prec = (I_s * w_s * w_p)/(B_prec)

mu_prec_up = [n for i, n in enumerate(mu_prec) if i < len(mu_prec)/2]
mu_prec_down = [n for i, n in enumerate(mu_prec) if i >= len(mu_prec)/2]

mu_prec = [(mu_up+mu_down)/2 for mu_up, mu_down in zip(mu_prec_up, mu_prec_down)]

mu_prec = np.array(mu_prec)

mu_prec


SDOM_analysis(len(mu_prec), mu_prec, mu_prec/10)


mu_tot = np.concatenate((mu_prec, mu_osc))
SDOM_analysis(len(mu_tot), mu_tot, mu_tot/10)


x_ax_prec = B_prec/w_p
y_ax_prec = I_s * w_s
x_err = np.ones(len(x_ax_prec)) * 0.00008
y_err = np.ones(len(y_ax_prec)) * 0.00008
linear_regression(x_ax_prec, y_ax_prec, x_err, y_err)


y_ax_osc = (4*math.pi*I_s)/B
x_ax_osc = T**2
x_err = np.ones(len(x_ax_osc)) * 0.10
y_err = np.ones(len(y_ax_osc)) * 0.005
linear_regression(x_ax_osc, y_ax_osc, x_err, y_err)
plt.show()



