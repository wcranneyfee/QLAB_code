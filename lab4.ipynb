{
 "cells": [
  {
   "cell_type": "code",
   "execution_count": 31,
   "metadata": {},
   "outputs": [
    {
     "name": "stdout",
     "output_type": "stream",
     "text": [
      "moment of intertia = 5.78e-05 +/- 4.07e-06 kg m^2\n"
     ]
    }
   ],
   "source": [
    "import numpy as np\n",
    "import math\n",
    "import matplotlib.pyplot as plt\n",
    "import pandas as pd\n",
    "from SDOM_analysis import SDOM_analysis\n",
    "from linear_regression import linear_regression\n",
    "import matplotlib.pyplot as plt\n",
    "\n",
    "\n",
    "def rpm_to_w(rpm):\n",
    "    f = (rpm*2*math.pi)/60;\n",
    "    return f\n",
    "    \n",
    "cue_ball_mass = 0.178; # kg\n",
    "dM = 0.001; # kg\n",
    "\n",
    "ball_r = 2.85e-2; # meters, radius of cue ball\n",
    "dRball = 0.001; # meters, error in radius measurement\n",
    "\n",
    "Current = np.array([1.998, 1.799, 1.599, 1.399, 1.198, 0.999]); # A\n",
    "dI = 0.001\n",
    "\n",
    "dT = 0.1; # s\n",
    "\n",
    "N = 200 # no units\n",
    "mu_0 = 4e-7*math.pi # H/m\n",
    "D = 21e-2 # [m], diameter of helmholtz coils\n",
    "dD = 1e-2 # [m], error in diameter measurement\n",
    "\n",
    "I_s = (2/5) * cue_ball_mass * (ball_r ** 2)\n",
    "\n",
    "d_r_squared = 2 * (dRball/ball_r) * (ball_r**2)\n",
    "\n",
    "dI_s = math.sqrt((d_r_squared/(ball_r**2))**2 + (dM/cue_ball_mass)**2) * I_s\n",
    "\n",
    "dw_s = 10 # RPM\n",
    "dw_s = rpm_to_w(dw_s) # rad/s\n",
    "\n",
    "\n",
    "print(f\"moment of intertia = {I_s:.2e} +/- {dI_s:.2e} kg m^2\")"
   ]
  },
  {
   "cell_type": "code",
   "execution_count": 32,
   "metadata": {},
   "outputs": [],
   "source": [
    "df_osc = pd.read_csv(\"Data/lab4_osc(in).csv\")"
   ]
  },
  {
   "cell_type": "code",
   "execution_count": 33,
   "metadata": {},
   "outputs": [
    {
     "data": {
      "text/html": [
       "<div>\n",
       "<style scoped>\n",
       "    .dataframe tbody tr th:only-of-type {\n",
       "        vertical-align: middle;\n",
       "    }\n",
       "\n",
       "    .dataframe tbody tr th {\n",
       "        vertical-align: top;\n",
       "    }\n",
       "\n",
       "    .dataframe thead th {\n",
       "        text-align: right;\n",
       "    }\n",
       "</style>\n",
       "<table border=\"1\" class=\"dataframe\">\n",
       "  <thead>\n",
       "    <tr style=\"text-align: right;\">\n",
       "      <th></th>\n",
       "      <th>Trial</th>\n",
       "      <th>B-Direction</th>\n",
       "      <th>T_o(s)</th>\n",
       "      <th>dT</th>\n",
       "      <th>I(Amps)</th>\n",
       "      <th>dI</th>\n",
       "    </tr>\n",
       "  </thead>\n",
       "  <tbody>\n",
       "    <tr>\n",
       "      <th>0</th>\n",
       "      <td>1</td>\n",
       "      <td>Up</td>\n",
       "      <td>1.5</td>\n",
       "      <td>0.1</td>\n",
       "      <td>1.999</td>\n",
       "      <td>0.005</td>\n",
       "    </tr>\n",
       "    <tr>\n",
       "      <th>1</th>\n",
       "      <td>2</td>\n",
       "      <td>Up</td>\n",
       "      <td>1.7</td>\n",
       "      <td>0.1</td>\n",
       "      <td>1.799</td>\n",
       "      <td>0.005</td>\n",
       "    </tr>\n",
       "    <tr>\n",
       "      <th>2</th>\n",
       "      <td>3</td>\n",
       "      <td>Up</td>\n",
       "      <td>1.8</td>\n",
       "      <td>0.1</td>\n",
       "      <td>1.599</td>\n",
       "      <td>0.005</td>\n",
       "    </tr>\n",
       "    <tr>\n",
       "      <th>3</th>\n",
       "      <td>4</td>\n",
       "      <td>Up</td>\n",
       "      <td>2.0</td>\n",
       "      <td>0.1</td>\n",
       "      <td>1.399</td>\n",
       "      <td>0.005</td>\n",
       "    </tr>\n",
       "    <tr>\n",
       "      <th>4</th>\n",
       "      <td>5</td>\n",
       "      <td>Up</td>\n",
       "      <td>2.3</td>\n",
       "      <td>0.1</td>\n",
       "      <td>1.199</td>\n",
       "      <td>0.005</td>\n",
       "    </tr>\n",
       "    <tr>\n",
       "      <th>5</th>\n",
       "      <td>6</td>\n",
       "      <td>Up</td>\n",
       "      <td>2.4</td>\n",
       "      <td>0.1</td>\n",
       "      <td>0.998</td>\n",
       "      <td>0.005</td>\n",
       "    </tr>\n",
       "  </tbody>\n",
       "</table>\n",
       "</div>"
      ],
      "text/plain": [
       "   Trial  B-Direction  T_o(s)   dT  I(Amps)     dI\n",
       "0       1          Up     1.5  0.1    1.999  0.005\n",
       "1       2          Up     1.7  0.1    1.799  0.005\n",
       "2       3          Up     1.8  0.1    1.599  0.005\n",
       "3       4          Up     2.0  0.1    1.399  0.005\n",
       "4       5          Up     2.3  0.1    1.199  0.005\n",
       "5       6          Up     2.4  0.1    0.998  0.005"
      ]
     },
     "execution_count": 33,
     "metadata": {},
     "output_type": "execute_result"
    }
   ],
   "source": [
    "df_osc"
   ]
  },
  {
   "cell_type": "code",
   "execution_count": 34,
   "metadata": {},
   "outputs": [],
   "source": [
    "B = (16*N*mu_0*Current)/(math.sqrt(125)*D) # T\n",
    "\n",
    "B_err = math.sqrt((dI_s/I_s)**2 + (dD/D)**2)*B"
   ]
  },
  {
   "cell_type": "code",
   "execution_count": 35,
   "metadata": {},
   "outputs": [
    {
     "name": "stdout",
     "output_type": "stream",
     "text": [
      "[0.00342201 0.00308118 0.00273863 0.00239609 0.00205183 0.001711  ]\n",
      "[0.00029085 0.00026188 0.00023276 0.00020365 0.00017439 0.00014542]\n"
     ]
    }
   ],
   "source": [
    "print(B)\n",
    "print(B_err)"
   ]
  },
  {
   "cell_type": "code",
   "execution_count": 36,
   "metadata": {},
   "outputs": [],
   "source": [
    "T = np.array(df_osc['T_o(s)'])"
   ]
  },
  {
   "cell_type": "code",
   "execution_count": 37,
   "metadata": {},
   "outputs": [
    {
     "data": {
      "text/plain": [
       "array([1.5, 1.7, 1.8, 2. , 2.3, 2.4])"
      ]
     },
     "execution_count": 37,
     "metadata": {},
     "output_type": "execute_result"
    }
   ],
   "source": [
    "T"
   ]
  },
  {
   "cell_type": "code",
   "execution_count": 40,
   "metadata": {},
   "outputs": [],
   "source": [
    "mu_osc = (4 * (math.pi**2) * I_s)/(T**2 *B)\n",
    "\n",
    "\n",
    "mu_osc_err = []\n",
    "for I, period, mu in zip(Current, T, mu_osc):\n",
    "    mu_osc_err.append(math.sqrt((dM/cue_ball_mass)**2 + 4*(dRball/ball_r)**2 + (dD/D)**2 + (dI/I)**2 + 4*(dT/period)**2)*mu)"
   ]
  },
  {
   "cell_type": "code",
   "execution_count": 41,
   "metadata": {},
   "outputs": [
    {
     "name": "stdout",
     "output_type": "stream",
     "text": [
      "[0.29652814 0.25639816 0.25730631 0.23821341 0.21034463 0.23166261]\n",
      "[np.float64(0.04688686138892205), np.float64(0.03721296407756154), np.float64(0.03599511812779751), np.float64(0.0312634008074245), np.float64(0.025577301834668716), np.float64(0.027575805318345116)]\n"
     ]
    }
   ],
   "source": [
    "print(mu_osc)\n",
    "print(mu_osc_err)"
   ]
  },
  {
   "cell_type": "code",
   "execution_count": 42,
   "metadata": {},
   "outputs": [
    {
     "name": "stdout",
     "output_type": "stream",
     "text": [
      "mean = 2.484089e-01\n",
      "SDOM = 1.196067e-02\n",
      "STDEV = 2.929754e-02\n"
     ]
    },
    {
     "data": {
      "text/plain": [
       "(np.float64(0.24840887403060355), 0.029297537207731456, 0.011960669479857787)"
      ]
     },
     "execution_count": 42,
     "metadata": {},
     "output_type": "execute_result"
    },
    {
     "data": {
      "image/png": "[encoded data removed]",
      "text/plain": [
       "<Figure size 640x480 with 1 Axes>"
      ]
     },
     "metadata": {},
     "output_type": "display_data"
    }
   ],
   "source": [
    "mean, std, sdom = SDOM_analysis(len(mu_osc), mu_osc, mu_osc_err)\n",
    "plt.savefig('figures/SDOM_osc.png')\n",
    "\n",
    "mean, std, sdom"
   ]
  },
  {
   "cell_type": "code",
   "execution_count": 43,
   "metadata": {},
   "outputs": [],
   "source": [
    "df_prec = pd.read_csv(\"Data/lab4_prec(in).csv\")"
   ]
  },
  {
   "cell_type": "code",
   "execution_count": 44,
   "metadata": {},
   "outputs": [
    {
     "data": {
      "text/html": [
       "<div>\n",
       "<style scoped>\n",
       "    .dataframe tbody tr th:only-of-type {\n",
       "        vertical-align: middle;\n",
       "    }\n",
       "\n",
       "    .dataframe tbody tr th {\n",
       "        vertical-align: top;\n",
       "    }\n",
       "\n",
       "    .dataframe thead th {\n",
       "        text-align: right;\n",
       "    }\n",
       "</style>\n",
       "<table border=\"1\" class=\"dataframe\">\n",
       "  <thead>\n",
       "    <tr style=\"text-align: right;\">\n",
       "      <th></th>\n",
       "      <th>Trial</th>\n",
       "      <th>B-Direction</th>\n",
       "      <th>T_p(s)</th>\n",
       "      <th>dT</th>\n",
       "      <th>w_s(RPM)</th>\n",
       "      <th>dw_s</th>\n",
       "      <th>I(Amps)</th>\n",
       "      <th>dI</th>\n",
       "    </tr>\n",
       "  </thead>\n",
       "  <tbody>\n",
       "    <tr>\n",
       "      <th>0</th>\n",
       "      <td>1</td>\n",
       "      <td>Up</td>\n",
       "      <td>7.6</td>\n",
       "      <td>0.2</td>\n",
       "      <td>220</td>\n",
       "      <td>10</td>\n",
       "      <td>1.998</td>\n",
       "      <td>0.005</td>\n",
       "    </tr>\n",
       "    <tr>\n",
       "      <th>1</th>\n",
       "      <td>2</td>\n",
       "      <td>Up</td>\n",
       "      <td>7.5</td>\n",
       "      <td>0.2</td>\n",
       "      <td>210</td>\n",
       "      <td>10</td>\n",
       "      <td>1.799</td>\n",
       "      <td>0.005</td>\n",
       "    </tr>\n",
       "    <tr>\n",
       "      <th>2</th>\n",
       "      <td>3</td>\n",
       "      <td>Up</td>\n",
       "      <td>11.8</td>\n",
       "      <td>0.2</td>\n",
       "      <td>240</td>\n",
       "      <td>10</td>\n",
       "      <td>1.599</td>\n",
       "      <td>0.005</td>\n",
       "    </tr>\n",
       "    <tr>\n",
       "      <th>3</th>\n",
       "      <td>4</td>\n",
       "      <td>Up</td>\n",
       "      <td>12.4</td>\n",
       "      <td>0.2</td>\n",
       "      <td>235</td>\n",
       "      <td>10</td>\n",
       "      <td>1.399</td>\n",
       "      <td>0.005</td>\n",
       "    </tr>\n",
       "    <tr>\n",
       "      <th>4</th>\n",
       "      <td>5</td>\n",
       "      <td>Up</td>\n",
       "      <td>13.2</td>\n",
       "      <td>0.2</td>\n",
       "      <td>205</td>\n",
       "      <td>10</td>\n",
       "      <td>1.198</td>\n",
       "      <td>0.005</td>\n",
       "    </tr>\n",
       "    <tr>\n",
       "      <th>5</th>\n",
       "      <td>6</td>\n",
       "      <td>Up</td>\n",
       "      <td>18.9</td>\n",
       "      <td>0.2</td>\n",
       "      <td>216</td>\n",
       "      <td>10</td>\n",
       "      <td>0.999</td>\n",
       "      <td>0.005</td>\n",
       "    </tr>\n",
       "    <tr>\n",
       "      <th>6</th>\n",
       "      <td>1</td>\n",
       "      <td>Down</td>\n",
       "      <td>6.0</td>\n",
       "      <td>0.2</td>\n",
       "      <td>230</td>\n",
       "      <td>10</td>\n",
       "      <td>1.998</td>\n",
       "      <td>0.005</td>\n",
       "    </tr>\n",
       "    <tr>\n",
       "      <th>7</th>\n",
       "      <td>2</td>\n",
       "      <td>Down</td>\n",
       "      <td>5.5</td>\n",
       "      <td>0.2</td>\n",
       "      <td>180</td>\n",
       "      <td>10</td>\n",
       "      <td>1.799</td>\n",
       "      <td>0.005</td>\n",
       "    </tr>\n",
       "    <tr>\n",
       "      <th>8</th>\n",
       "      <td>3</td>\n",
       "      <td>Down</td>\n",
       "      <td>5.5</td>\n",
       "      <td>0.2</td>\n",
       "      <td>135</td>\n",
       "      <td>10</td>\n",
       "      <td>1.599</td>\n",
       "      <td>0.005</td>\n",
       "    </tr>\n",
       "    <tr>\n",
       "      <th>9</th>\n",
       "      <td>4</td>\n",
       "      <td>Down</td>\n",
       "      <td>5.0</td>\n",
       "      <td>0.2</td>\n",
       "      <td>130</td>\n",
       "      <td>10</td>\n",
       "      <td>1.399</td>\n",
       "      <td>0.005</td>\n",
       "    </tr>\n",
       "    <tr>\n",
       "      <th>10</th>\n",
       "      <td>5</td>\n",
       "      <td>Down</td>\n",
       "      <td>7.0</td>\n",
       "      <td>0.2</td>\n",
       "      <td>165</td>\n",
       "      <td>10</td>\n",
       "      <td>1.199</td>\n",
       "      <td>0.005</td>\n",
       "    </tr>\n",
       "    <tr>\n",
       "      <th>11</th>\n",
       "      <td>6</td>\n",
       "      <td>Down</td>\n",
       "      <td>7.4</td>\n",
       "      <td>0.2</td>\n",
       "      <td>150</td>\n",
       "      <td>10</td>\n",
       "      <td>0.998</td>\n",
       "      <td>0.005</td>\n",
       "    </tr>\n",
       "  </tbody>\n",
       "</table>\n",
       "</div>"
      ],
      "text/plain": [
       "    Trial  B-Direction  T_p(s)   dT  w_s(RPM)  dw_s  I(Amps)     dI\n",
       "0        1          Up     7.6  0.2       220    10    1.998  0.005\n",
       "1        2          Up     7.5  0.2       210    10    1.799  0.005\n",
       "2        3          Up    11.8  0.2       240    10    1.599  0.005\n",
       "3        4          Up    12.4  0.2       235    10    1.399  0.005\n",
       "4        5          Up    13.2  0.2       205    10    1.198  0.005\n",
       "5        6          Up    18.9  0.2       216    10    0.999  0.005\n",
       "6        1        Down     6.0  0.2       230    10    1.998  0.005\n",
       "7        2        Down     5.5  0.2       180    10    1.799  0.005\n",
       "8        3        Down     5.5  0.2       135    10    1.599  0.005\n",
       "9        4        Down     5.0  0.2       130    10    1.399  0.005\n",
       "10       5        Down     7.0  0.2       165    10    1.199  0.005\n",
       "11       6        Down     7.4  0.2       150    10    0.998  0.005"
      ]
     },
     "execution_count": 44,
     "metadata": {},
     "output_type": "execute_result"
    }
   ],
   "source": [
    "df_prec"
   ]
  },
  {
   "cell_type": "code",
   "execution_count": 45,
   "metadata": {},
   "outputs": [],
   "source": [
    "df_up = df_prec.loc[df_prec['B-Direction'] == 'Up']\n",
    "df_down = df_prec.loc[df_prec['B-Direction'] == 'Down']"
   ]
  },
  {
   "cell_type": "code",
   "execution_count": 46,
   "metadata": {},
   "outputs": [
    {
     "data": {
      "text/html": [
       "<div>\n",
       "<style scoped>\n",
       "    .dataframe tbody tr th:only-of-type {\n",
       "        vertical-align: middle;\n",
       "    }\n",
       "\n",
       "    .dataframe tbody tr th {\n",
       "        vertical-align: top;\n",
       "    }\n",
       "\n",
       "    .dataframe thead th {\n",
       "        text-align: right;\n",
       "    }\n",
       "</style>\n",
       "<table border=\"1\" class=\"dataframe\">\n",
       "  <thead>\n",
       "    <tr style=\"text-align: right;\">\n",
       "      <th></th>\n",
       "      <th>Trial</th>\n",
       "      <th>B-Direction</th>\n",
       "      <th>T_p(s)</th>\n",
       "      <th>dT</th>\n",
       "      <th>w_s(RPM)</th>\n",
       "      <th>dw_s</th>\n",
       "      <th>I(Amps)</th>\n",
       "      <th>dI</th>\n",
       "    </tr>\n",
       "  </thead>\n",
       "  <tbody>\n",
       "    <tr>\n",
       "      <th>0</th>\n",
       "      <td>1</td>\n",
       "      <td>Up</td>\n",
       "      <td>7.6</td>\n",
       "      <td>0.2</td>\n",
       "      <td>220</td>\n",
       "      <td>10</td>\n",
       "      <td>1.998</td>\n",
       "      <td>0.005</td>\n",
       "    </tr>\n",
       "    <tr>\n",
       "      <th>1</th>\n",
       "      <td>2</td>\n",
       "      <td>Up</td>\n",
       "      <td>7.5</td>\n",
       "      <td>0.2</td>\n",
       "      <td>210</td>\n",
       "      <td>10</td>\n",
       "      <td>1.799</td>\n",
       "      <td>0.005</td>\n",
       "    </tr>\n",
       "    <tr>\n",
       "      <th>2</th>\n",
       "      <td>3</td>\n",
       "      <td>Up</td>\n",
       "      <td>11.8</td>\n",
       "      <td>0.2</td>\n",
       "      <td>240</td>\n",
       "      <td>10</td>\n",
       "      <td>1.599</td>\n",
       "      <td>0.005</td>\n",
       "    </tr>\n",
       "    <tr>\n",
       "      <th>3</th>\n",
       "      <td>4</td>\n",
       "      <td>Up</td>\n",
       "      <td>12.4</td>\n",
       "      <td>0.2</td>\n",
       "      <td>235</td>\n",
       "      <td>10</td>\n",
       "      <td>1.399</td>\n",
       "      <td>0.005</td>\n",
       "    </tr>\n",
       "    <tr>\n",
       "      <th>4</th>\n",
       "      <td>5</td>\n",
       "      <td>Up</td>\n",
       "      <td>13.2</td>\n",
       "      <td>0.2</td>\n",
       "      <td>205</td>\n",
       "      <td>10</td>\n",
       "      <td>1.198</td>\n",
       "      <td>0.005</td>\n",
       "    </tr>\n",
       "    <tr>\n",
       "      <th>5</th>\n",
       "      <td>6</td>\n",
       "      <td>Up</td>\n",
       "      <td>18.9</td>\n",
       "      <td>0.2</td>\n",
       "      <td>216</td>\n",
       "      <td>10</td>\n",
       "      <td>0.999</td>\n",
       "      <td>0.005</td>\n",
       "    </tr>\n",
       "  </tbody>\n",
       "</table>\n",
       "</div>"
      ],
      "text/plain": [
       "   Trial  B-Direction  T_p(s)   dT  w_s(RPM)  dw_s  I(Amps)     dI\n",
       "0       1          Up     7.6  0.2       220    10    1.998  0.005\n",
       "1       2          Up     7.5  0.2       210    10    1.799  0.005\n",
       "2       3          Up    11.8  0.2       240    10    1.599  0.005\n",
       "3       4          Up    12.4  0.2       235    10    1.399  0.005\n",
       "4       5          Up    13.2  0.2       205    10    1.198  0.005\n",
       "5       6          Up    18.9  0.2       216    10    0.999  0.005"
      ]
     },
     "execution_count": 46,
     "metadata": {},
     "output_type": "execute_result"
    }
   ],
   "source": [
    "df_up"
   ]
  },
  {
   "cell_type": "code",
   "execution_count": 47,
   "metadata": {},
   "outputs": [],
   "source": [
    "T_prec = np.array(df_prec['T_p(s)'])\n",
    "dT_prec = np.array(df_prec['dT'])"
   ]
  },
  {
   "cell_type": "code",
   "execution_count": 48,
   "metadata": {},
   "outputs": [],
   "source": [
    "w_s = np.array(df_prec['w_s(RPM)'])\n",
    "w_s = rpm_to_w(w_s)"
   ]
  },
  {
   "cell_type": "code",
   "execution_count": 49,
   "metadata": {},
   "outputs": [
    {
     "data": {
      "text/plain": [
       "array([23.03834613, 21.99114858, 25.13274123, 24.60914245, 21.4675498 ,\n",
       "       22.61946711, 24.08554368, 18.84955592, 14.13716694, 13.61356817,\n",
       "       17.27875959, 15.70796327])"
      ]
     },
     "execution_count": 49,
     "metadata": {},
     "output_type": "execute_result"
    }
   ],
   "source": [
    "w_s"
   ]
  },
  {
   "cell_type": "code",
   "execution_count": 50,
   "metadata": {},
   "outputs": [],
   "source": [
    "w_p = np.array(df_prec['T_p(s)'])\n",
    "w_p = (2*math.pi)/w_p"
   ]
  },
  {
   "cell_type": "code",
   "execution_count": 51,
   "metadata": {},
   "outputs": [
    {
     "data": {
      "text/plain": [
       "array([0.82673491, 0.83775804, 0.53247333, 0.50670849, 0.47599889,\n",
       "       0.33244367, 1.04719755, 1.14239733, 1.14239733, 1.25663706,\n",
       "       0.8975979 , 0.8490791 ])"
      ]
     },
     "execution_count": 51,
     "metadata": {},
     "output_type": "execute_result"
    }
   ],
   "source": [
    "w_p"
   ]
  },
  {
   "cell_type": "code",
   "execution_count": 52,
   "metadata": {},
   "outputs": [
    {
     "data": {
      "text/plain": [
       "array([0.00342201, 0.00308118, 0.00273863, 0.00239609, 0.00205183,\n",
       "       0.001711  , 0.00342201, 0.00308118, 0.00273863, 0.00239609,\n",
       "       0.00205183, 0.001711  ])"
      ]
     },
     "execution_count": 52,
     "metadata": {},
     "output_type": "execute_result"
    }
   ],
   "source": [
    "B_prec = np.concatenate((B, B))\n",
    "B_prec"
   ]
  },
  {
   "cell_type": "code",
   "execution_count": 88,
   "metadata": {
    "ExecuteTime": {
     "start_time": "2024-10-24T21:03:28.904236Z"
    },
    "is_executing": true
   },
   "outputs": [
    {
     "name": "stdout",
     "output_type": "stream",
     "text": [
      "[np.float64(0.03216091633630244), np.float64(0.03492830731819959), np.float64(0.027176009320808905), np.float64(0.029016799977961017), np.float64(0.02856080643353381), np.float64(0.024747113988951713), np.float64(0.04310373855979166), np.float64(0.043592611611582906), np.float64(0.04040143066284421), np.float64(0.05013230023002948), np.float64(0.0473120198601583), np.float64(0.05019854697154126)]\n"
     ]
    }
   ],
   "source": [
    "mu_prec = (I_s * w_s * w_p)/(B_prec)\n",
    "\n",
    "Current2 = np.concatenate((Current, Current))\n",
    "\n",
    "mu_prec_err = []\n",
    "for I, mu, w, T, dT in zip(Current2, mu_prec, w_s, T_prec, dT_prec):\n",
    "    mu_prec_err.append(math.sqrt((dM/cue_ball_mass)**2 + 4*(dRball/ball_r)**2 + (dD/D)**2 + (dI/I)**2 + (dw_s/w)**2 + (dT/T)**2)*mu)\n",
    "\n",
    "print(mu_prec_err)\n",
    "\n",
    "def pairing_vals(arr):\n",
    "    \n",
    "    up_arr = [n for i, n in enumerate(arr) if i < len(arr)/2]\n",
    "    down_arr = [n for i, n in enumerate(arr) if i >= len(arr)/2]\n",
    "\n",
    "    avgd_arr = [(up+down)/2 for up, down in zip(up_arr, down_arr)]\n",
    "\n",
    "    return np.array(avgd_arr)\n",
    "\n",
    "mu_prec_avgd = pairing_vals(mu_prec)\n",
    "mu_prec_err_avgd = pairing_vals(mu_prec_err)\n",
    "\n",
    "# print(mu_prec_avgd)\n",
    "# print(mu_prec_err_avgd)\n",
    "# print(type(mu_prec_err_avgd))"
   ]
  },
  {
   "cell_type": "code",
   "execution_count": 54,
   "metadata": {},
   "outputs": [
    {
     "name": "stdout",
     "output_type": "stream",
     "text": [
      "[0.32188909 0.34579565 0.28260083 0.30096855 0.28801544 0.25416697\n",
      " 0.4262592  0.40417673 0.34104782 0.41290324 0.4371412  0.45080291]\n",
      "[np.float64(0.03216091633630244), np.float64(0.03492830731819959), np.float64(0.027176009320808905), np.float64(0.029016799977961017), np.float64(0.02856080643353381), np.float64(0.024747113988951713), np.float64(0.04310373855979166), np.float64(0.043592611611582906), np.float64(0.04040143066284421), np.float64(0.05013230023002948), np.float64(0.0473120198601583), np.float64(0.05019854697154126)]\n"
     ]
    }
   ],
   "source": [
    "print(mu_prec)\n",
    "print(mu_prec_err)"
   ]
  },
  {
   "cell_type": "code",
   "execution_count": 87,
   "metadata": {},
   "outputs": [
    {
     "name": "stdout",
     "output_type": "stream",
     "text": [
      "mean = 3.554806e-01\n",
      "SDOM = 9.475456e-03\n",
      "STDEV = 2.321003e-02\n"
     ]
    },
    {
     "data": {
      "text/plain": [
       "Text(0, 0.5, '$\\\\mu$ [A m$^2$]')"
      ]
     },
     "execution_count": 87,
     "metadata": {},
     "output_type": "execute_result"
    },
    {
     "data": {
      "image/png": "[encoded data removed]",
      "text/plain": [
       "<Figure size 640x480 with 1 Axes>"
      ]
     },
     "metadata": {},
     "output_type": "display_data"
    }
   ],
   "source": [
    "SDOM_analysis(len(mu_prec_avgd), mu_prec_avgd, mu_prec_err_avgd)\n",
    "plt.ylabel(r'$\\mu$' + r' [A m$^2$]')"
   ]
  },
  {
   "cell_type": "code",
   "execution_count": 56,
   "metadata": {},
   "outputs": [
    {
     "name": "stdout",
     "output_type": "stream",
     "text": [
      "mean = 3.197900e-01\n",
      "SDOM = 1.817775e-02\n",
      "STDEV = 7.712167e-02\n"
     ]
    },
    {
     "data": {
      "text/plain": [
       "(np.float64(0.31979004934057575), 0.07712166619321685, 0.018177751047209652)"
      ]
     },
     "execution_count": 56,
     "metadata": {},
     "output_type": "execute_result"
    },
    {
     "data": {
      "image/png": "[encoded data removed]",
      "text/plain": [
       "<Figure size 640x480 with 1 Axes>"
      ]
     },
     "metadata": {},
     "output_type": "display_data"
    }
   ],
   "source": [
    "mu_tot = np.concatenate((mu_prec, mu_osc))\n",
    "SDOM_analysis(len(mu_tot), mu_tot, mu_tot/10)\n",
    "plt.ylabel(r'$\\mu$' + r' [A m$^2$]')"
   ]
  },
  {
   "cell_type": "code",
   "execution_count": 1,
   "metadata": {
    "ExecuteTime": {
     "end_time": "2024-11-29T14:21:48.411127Z",
     "start_time": "2024-11-29T14:21:48.243497Z"
    }
   },
   "outputs": [
    {
     "ename": "NameError",
     "evalue": "name 'SDOM_analysis' is not defined",
     "output_type": "error",
     "traceback": [
      "\u001B[0;31m---------------------------------------------------------------------------\u001B[0m",
      "\u001B[0;31mNameError\u001B[0m                                 Traceback (most recent call last)",
      "Cell \u001B[0;32mIn[1], line 1\u001B[0m\n\u001B[0;32m----> 1\u001B[0m \u001B[43mSDOM_analysis\u001B[49m(\u001B[38;5;28mlen\u001B[39m(mu_prec), mu_prec, mu_prec_err)\n\u001B[1;32m      2\u001B[0m plt\u001B[38;5;241m.\u001B[39msavefig(\u001B[38;5;124m'\u001B[39m\u001B[38;5;124mfigures/SDOM_prec.png\u001B[39m\u001B[38;5;124m'\u001B[39m)\n\u001B[1;32m      3\u001B[0m plt\u001B[38;5;241m.\u001B[39mylabel(\u001B[38;5;124mr\u001B[39m\u001B[38;5;124m'\u001B[39m\u001B[38;5;124m$\u001B[39m\u001B[38;5;124m\\\u001B[39m\u001B[38;5;124mmu$\u001B[39m\u001B[38;5;124m'\u001B[39m \u001B[38;5;241m+\u001B[39m \u001B[38;5;124mr\u001B[39m\u001B[38;5;124m'\u001B[39m\u001B[38;5;124m [A m$^2$]\u001B[39m\u001B[38;5;124m'\u001B[39m)\n",
      "\u001B[0;31mNameError\u001B[0m: name 'SDOM_analysis' is not defined"
     ]
    }
   ],
   "source": [
    "SDOM_analysis(len(mu_prec), mu_prec, mu_prec_err)\n",
    "plt.savefig('figures/SDOM_prec.png')\n",
    "plt.ylabel(r'$\\mu$' + r' [A m$^2$]')"
   ]
  },
  {
   "cell_type": "code",
   "execution_count": 86,
   "metadata": {},
   "outputs": [
    {
     "name": "stdout",
     "output_type": "stream",
     "text": [
      "slope = 4.07e-01, with uncertainty 3.7e-02\n",
      "intercept = -1.97e-04, with uncertainty 8.6e-05\n",
      "mu = 0.40722561416305114 +/- 0.0372398813255478\n"
     ]
    },
    {
     "data": {
      "image/png": "[encoded data removed]",
      "text/plain": [
       "<Figure size 640x480 with 1 Axes>"
      ]
     },
     "metadata": {},
     "output_type": "display_data"
    }
   ],
   "source": [
    "x_ax_prec = B_prec \n",
    "y_ax_prec = I_s * w_s * w_p\n",
    "x_err = np.concatenate((B_err, B_err))\n",
    "\n",
    "T_p = np.array(df_prec['T_p(s)'])\n",
    "dT_p = 0.2\n",
    "\n",
    "y_err = []\n",
    "for w, T, y_ax in zip(w_s, T_p, y_ax_prec):\n",
    "    y_err.append(math.sqrt((dI_s/I_s)**2 + (dw_s/w)**2 + (dT_p/T)**2)*y_ax)\n",
    "\n",
    "slope, dslope, inter, dinter = linear_regression(x_ax_prec, y_ax_prec, x_err, y_err)\n",
    "\n",
    "mu_prec_linear = slope\n",
    "mu_err_prec_linear = dslope\n",
    "\n",
    "print(f\"mu = {mu_prec_linear} +/- {mu_err_prec_linear}\")\n",
    "\n",
    "plt.xlabel('B [T]')\n",
    "plt.ylabel(r'$I_m w_{spin} w_{prec}$ [kgm$^2$/s$^2$]')\n",
    "plt.savefig('figures/Linear_analysis_prec.png')"
   ]
  },
  {
   "cell_type": "code",
   "execution_count": 85,
   "metadata": {},
   "outputs": [
    {
     "name": "stdout",
     "output_type": "stream",
     "text": [
      "slope = 1.36e+02, with uncertainty 2.1e+01\n",
      "intercept = -7.16e-02, with uncertainty 4.5e-02\n",
      "mu = 0.31098306938483805 +/- 0.05242760779487348\n"
     ]
    },
    {
     "data": {
      "image/png": "[encoded data removed]",
      "text/plain": [
       "<Figure size 640x480 with 1 Axes>"
      ]
     },
     "metadata": {},
     "output_type": "display_data"
    },
    {
     "data": {
      "text/plain": [
       "<Figure size 640x480 with 0 Axes>"
      ]
     },
     "metadata": {},
     "output_type": "display_data"
    }
   ],
   "source": [
    "T = np.array(df_osc['T_o(s)']) # s\n",
    "dT = 0.1\n",
    "Current = np.array([1.998, 1.799, 1.599, 1.399, 1.198, 0.999]); # A\n",
    "B = (16*N*mu_0*Current)/(math.sqrt(125)*D) # T\n",
    "\n",
    "y_ax_osc = 1/(T**2)\n",
    "x_ax_osc = B\n",
    "x_err = B_err\n",
    "y_err = (2*dT/(T**3))\n",
    "\n",
    "slope, dslope, inter, dinter = linear_regression(x_ax_osc, y_ax_osc, x_err, y_err)\n",
    "\n",
    "mu = slope * 4*(math.pi**2) * I_s\n",
    "\n",
    "mu_linear_err = math.sqrt((dslope/slope)**2 + (dI_s/I_s)**2)*mu\n",
    "\n",
    "print(f\"mu = {mu} +/- {mu_linear_err}\")\n",
    "\n",
    "plt.xlabel('B [T]')\n",
    "plt.ylabel(r'$1/T^2$ [s$^{-2}$]')\n",
    "plt.show()\n",
    "plt.savefig(\"figures/second_linear_analysis.png\")"
   ]
  },
  {
   "cell_type": "code",
   "execution_count": null,
   "metadata": {},
   "outputs": [],
   "source": []
  }
 ],
 "metadata": {
  "kernelspec": {
   "display_name": "Python 3 (ipykernel)",
   "language": "python",
   "name": "python3"
  },
  "language_info": {
   "codemirror_mode": {
    "name": "ipython",
    "version": 3
   },
   "file_extension": ".py",
   "mimetype": "text/x-python",
   "name": "python",
   "nbconvert_exporter": "python",
   "pygments_lexer": "ipython3",
   "version": "3.12.0"
  }
 },
 "nbformat": 4,
 "nbformat_minor": 4
}
